{
  "nbformat": 4,
  "nbformat_minor": 0,
  "metadata": {
    "colab": {
      "provenance": [],
      "authorship_tag": "ABX9TyMMkb2b8S8gmNDs4m462VJH",
      "include_colab_link": true
    },
    "kernelspec": {
      "name": "python3",
      "display_name": "Python 3"
    },
    "language_info": {
      "name": "python"
    }
  },
  "cells": [
    {
      "cell_type": "markdown",
      "metadata": {
        "id": "view-in-github",
        "colab_type": "text"
      },
      "source": [
        "<a href=\"https://colab.research.google.com/github/EstebanLarrea/ArduinoDeber/blob/Python/Larrea%20y%20Heredia%20-%20Taller%20de%20Python.ipynb\" target=\"_parent\"><img src=\"https://colab.research.google.com/assets/colab-badge.svg\" alt=\"Open In Colab\"/></a>"
      ]
    },
    {
      "cell_type": "code",
      "execution_count": 1,
      "metadata": {
        "colab": {
          "base_uri": "https://localhost:8080/"
        },
        "id": "enH_BLKY6hin",
        "outputId": "482e3fc9-9884-492e-8f83-d14dc2e6c545"
      },
      "outputs": [
        {
          "output_type": "stream",
          "name": "stdout",
          "text": [
            "Frecuencia actual del CPU: 2249.998 MHz\n"
          ]
        }
      ],
      "source": [
        "import psutil\n",
        "\n",
        "def obtener_frecuencia_cpu():\n",
        "    frecuencia = psutil.cpu_freq()\n",
        "    return f\"Frecuencia actual del CPU: {frecuencia.current} MHz\"\n",
        "\n",
        "def main():\n",
        "    frecuencia_cpu = obtener_frecuencia_cpu()\n",
        "    print(frecuencia_cpu)\n",
        "\n",
        "if __name__ == \"__main__\":\n",
        "    main()\n",
        ""
      ]
    },
    {
      "cell_type": "code",
      "source": [
        "import psutil\n",
        "\n",
        "def obtener_estadisticas_memoria():\n",
        "    # Obtener estadísticas de memoria\n",
        "    memoria = psutil.virtual_memory()\n",
        "\n",
        "    print(\"Uso total de memoria: {} MB\".format(memoria.total / (1024 ** 2)))\n",
        "    print(\"Uso de memoria disponible: {} MB\".format(memoria.available / (1024 ** 2)))\n",
        "    print(\"Uso de memoria actual: {} MB\".format(memoria.used / (1024 ** 2)))\n",
        "\n",
        "def consumir_memoria():\n",
        "    # Crear una lista grande para consumir memoria\n",
        "    lista_grande = [0] * (10**6)  # Lista de un millón de elementos\n",
        "\n",
        "if __name__ == \"__main__\":\n",
        "    print(\"Estadísticas de memoria antes de consumir memoria:\")\n",
        "    obtener_estadisticas_memoria()\n",
        "\n",
        "    print(\"\\nConsumiendo memoria...\")\n",
        "    consumir_memoria()\n",
        "\n",
        "    print(\"\\nEstadísticas de memoria después de consumir memoria:\")\n",
        "    obtener_estadisticas_memoria()\n"
      ],
      "metadata": {
        "colab": {
          "base_uri": "https://localhost:8080/"
        },
        "id": "jhNnHp377SSK",
        "outputId": "622b931c-e071-43bf-ede4-e83b9d1506b2"
      },
      "execution_count": 2,
      "outputs": [
        {
          "output_type": "stream",
          "name": "stdout",
          "text": [
            "Estadísticas de memoria antes de consumir memoria:\n",
            "Uso total de memoria: 12982.625 MB\n",
            "Uso de memoria disponible: 12150.5703125 MB\n",
            "Uso de memoria actual: 557.71875 MB\n",
            "\n",
            "Consumiendo memoria...\n",
            "\n",
            "Estadísticas de memoria después de consumir memoria:\n",
            "Uso total de memoria: 12982.625 MB\n",
            "Uso de memoria disponible: 12150.5703125 MB\n",
            "Uso de memoria actual: 557.71875 MB\n"
          ]
        }
      ]
    },
    {
      "cell_type": "code",
      "source": [
        "import socket\n",
        "\n",
        "def obtener_info_red():\n",
        "    # Obtener el nombre del host\n",
        "    nombre_host = socket.gethostname()\n",
        "\n",
        "    try:\n",
        "        # Obtener la dirección IP del host\n",
        "        direccion_ip = socket.gethostbyname(nombre_host)\n",
        "    except socket.gaierror:\n",
        "        direccion_ip = \"No se pudo obtener la dirección IP\"\n",
        "\n",
        "    return nombre_host, direccion_ip\n",
        "\n",
        "if __name__ == \"__main__\":\n",
        "    nombre_host, direccion_ip = obtener_info_red()\n",
        "\n",
        "    print(\"Nombre del host:\", nombre_host)\n",
        "    print(\"Dirección IP:\", direccion_ip)\n"
      ],
      "metadata": {
        "colab": {
          "base_uri": "https://localhost:8080/"
        },
        "id": "LTg06bTD9auy",
        "outputId": "5fb976e0-b6d9-4e26-bd8c-f4ee515c9b4a"
      },
      "execution_count": 6,
      "outputs": [
        {
          "output_type": "stream",
          "name": "stdout",
          "text": [
            "Nombre del host: 7ef71b23df30\n",
            "Dirección IP: 172.28.0.12\n"
          ]
        }
      ]
    },
    {
      "cell_type": "code",
      "source": [
        "import psutil\n",
        "\n",
        "def obtener_info_almacenamiento():\n",
        "    # Obtener estadísticas de uso del disco\n",
        "    uso_disco = psutil.disk_usage('/')\n",
        "\n",
        "    print(\"Información del Almacenamiento Interno:\")\n",
        "    print(f\"Espacio total: {uso_disco.total / (1024 ** 3):.2f} GB\")\n",
        "    print(f\"Espacio usado: {uso_disco.used / (1024 ** 3):.2f} GB\")\n",
        "    print(f\"Espacio libre: {uso_disco.free / (1024 ** 3):.2f} GB\")\n",
        "    print(f\"Porcentaje de uso: {uso_disco.percent}%\")\n",
        "\n",
        "def main():\n",
        "    obtener_info_almacenamiento()\n",
        "\n",
        "if __name__ == \"__main__\":\n",
        "    main()\n"
      ],
      "metadata": {
        "colab": {
          "base_uri": "https://localhost:8080/"
        },
        "id": "7ffoabiD-ur-",
        "outputId": "76a3579a-3222-4046-da4d-2b9d8b0eed02"
      },
      "execution_count": 8,
      "outputs": [
        {
          "output_type": "stream",
          "name": "stdout",
          "text": [
            "Información del Almacenamiento Interno:\n",
            "Espacio total: 107.72 GB\n",
            "Espacio usado: 26.89 GB\n",
            "Espacio libre: 80.81 GB\n",
            "Porcentaje de uso: 25.0%\n"
          ]
        }
      ]
    }
  ]
}